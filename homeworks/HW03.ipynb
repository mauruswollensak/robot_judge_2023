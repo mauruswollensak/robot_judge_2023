{
 "cells": [
  {
   "cell_type": "markdown",
   "metadata": {},
   "source": [
    "# HW03 (due October 17th 23:59)\n",
    "\n",
    "The goal of this homework is to **predict** the value of houses in California starting from house and neighborhood caracteristics. \n",
    "\n",
    "Differently from last week's homework, we are not interested in investigating the causal effect of some features on house values, but the main purpose is to obtain good predictions of the values, so to train the best model to minimize the loss function. "
   ]
  },
  {
   "cell_type": "code",
   "execution_count": 1,
   "metadata": {
    "scrolled": true
   },
   "outputs": [
    {
     "name": "stdout",
     "output_type": "stream",
     "text": [
      ".. _california_housing_dataset:\n",
      "\n",
      "California Housing dataset\n",
      "--------------------------\n",
      "\n",
      "**Data Set Characteristics:**\n",
      "\n",
      "    :Number of Instances: 20640\n",
      "\n",
      "    :Number of Attributes: 8 numeric, predictive attributes and the target\n",
      "\n",
      "    :Attribute Information:\n",
      "        - MedInc        median income in block group\n",
      "        - HouseAge      median house age in block group\n",
      "        - AveRooms      average number of rooms per household\n",
      "        - AveBedrms     average number of bedrooms per household\n",
      "        - Population    block group population\n",
      "        - AveOccup      average number of household members\n",
      "        - Latitude      block group latitude\n",
      "        - Longitude     block group longitude\n",
      "\n",
      "    :Missing Attribute Values: None\n",
      "\n",
      "This dataset was obtained from the StatLib repository.\n",
      "https://www.dcc.fc.up.pt/~ltorgo/Regression/cal_housing.html\n",
      "\n",
      "The target variable is the median house value for California districts,\n",
      "expressed in hundreds of thousands of dollars ($100,000).\n",
      "\n",
      "This dataset was derived from the 1990 U.S. census, using one row per census\n",
      "block group. A block group is the smallest geographical unit for which the U.S.\n",
      "Census Bureau publishes sample data (a block group typically has a population\n",
      "of 600 to 3,000 people).\n",
      "\n",
      "An household is a group of people residing within a home. Since the average\n",
      "number of rooms and bedrooms in this dataset are provided per household, these\n",
      "columns may take surpinsingly large values for block groups with few households\n",
      "and many empty houses, such as vacation resorts.\n",
      "\n",
      "It can be downloaded/loaded using the\n",
      ":func:`sklearn.datasets.fetch_california_housing` function.\n",
      "\n",
      ".. topic:: References\n",
      "\n",
      "    - Pace, R. Kelley and Ronald Barry, Sparse Spatial Autoregressions,\n",
      "      Statistics and Probability Letters, 33 (1997) 291-297\n",
      "\n"
     ]
    }
   ],
   "source": [
    "# Load Data\n",
    "from sklearn.datasets import fetch_california_housing\n",
    "data = fetch_california_housing()\n",
    "print(data['DESCR'])"
   ]
  },
  {
   "cell_type": "code",
   "execution_count": 2,
   "metadata": {},
   "outputs": [
    {
     "name": "stdout",
     "output_type": "stream",
     "text": [
      "20640 8\n"
     ]
    }
   ],
   "source": [
    "X_full, y_full = data.data, data.target\n",
    "n_samples = X_full.shape[0]\n",
    "n_features = X_full.shape[1]\n",
    "print(n_samples,n_features)"
   ]
  },
  {
   "cell_type": "markdown",
   "metadata": {},
   "source": [
    "# Summary Statistics"
   ]
  },
  {
   "cell_type": "code",
   "execution_count": 3,
   "metadata": {},
   "outputs": [],
   "source": [
    "from seaborn import distplot\n",
    "# make a histogram of the label variable\n",
    "#TODO"
   ]
  },
  {
   "cell_type": "code",
   "execution_count": 4,
   "metadata": {},
   "outputs": [],
   "source": [
    "# make histograms of all predictors\n",
    "#TODO"
   ]
  },
  {
   "cell_type": "code",
   "execution_count": 5,
   "metadata": {},
   "outputs": [],
   "source": [
    "from seaborn import scatterplot\n",
    "# make scatterplots of all predictors with the label\n",
    "#TODO"
   ]
  },
  {
   "cell_type": "markdown",
   "metadata": {},
   "source": [
    "# Train/Test Split"
   ]
  },
  {
   "cell_type": "code",
   "execution_count": 6,
   "metadata": {},
   "outputs": [],
   "source": [
    "from sklearn.model_selection import train_test_split\n",
    "# Split the data into 80% training and 20% test\n",
    "#TODO"
   ]
  },
  {
   "cell_type": "markdown",
   "metadata": {},
   "source": [
    "# Pre-Processing"
   ]
  },
  {
   "cell_type": "code",
   "execution_count": 7,
   "metadata": {},
   "outputs": [],
   "source": [
    "from sklearn.preprocessing import StandardScaler\n",
    "# produce standardized predictors with mean zero and variance one \n",
    "# fit the transformer in the training set and apply to the whole data\n",
    "#TODO"
   ]
  },
  {
   "cell_type": "code",
   "execution_count": 8,
   "metadata": {},
   "outputs": [],
   "source": [
    "from sklearn.preprocessing import PolynomialFeatures\n",
    "# produce quadratic polynomial features from all standardized predictors\n",
    "# squared values and pairwise interactions \n",
    "# fit the transformer in the training set and apply to the whole data\n",
    "#TODO"
   ]
  },
  {
   "cell_type": "markdown",
   "metadata": {},
   "source": [
    "## Fractional Ridge Regression\n",
    "https://arxiv.org/abs/2005.03220\n",
    "\n",
    "https://nrdg.github.io/fracridge/"
   ]
  },
  {
   "cell_type": "code",
   "execution_count": 9,
   "metadata": {},
   "outputs": [
    {
     "name": "stdout",
     "output_type": "stream",
     "text": [
      "Requirement already satisfied: fracridge in /home/elliott/anaconda3/lib/python3.7/site-packages (1.2.1)\n",
      "Requirement already satisfied: pillow in /home/elliott/anaconda3/lib/python3.7/site-packages (from fracridge) (7.2.0)\n",
      "Requirement already satisfied: setuptools-scm in /home/elliott/anaconda3/lib/python3.7/site-packages (from fracridge) (4.1.2)\n",
      "Requirement already satisfied: scikit-learn in /home/elliott/anaconda3/lib/python3.7/site-packages (from fracridge) (0.23.1)\n",
      "Requirement already satisfied: numba in /home/elliott/anaconda3/lib/python3.7/site-packages (from fracridge) (0.50.1)\n",
      "Requirement already satisfied: setuptools in /home/elliott/anaconda3/lib/python3.7/site-packages (from setuptools-scm->fracridge) (49.6.0)\n",
      "Requirement already satisfied: joblib>=0.11 in /home/elliott/anaconda3/lib/python3.7/site-packages (from scikit-learn->fracridge) (0.16.0)\n",
      "Requirement already satisfied: threadpoolctl>=2.0.0 in /home/elliott/anaconda3/lib/python3.7/site-packages (from scikit-learn->fracridge) (2.1.0)\n",
      "Requirement already satisfied: scipy>=0.19.1 in /home/elliott/anaconda3/lib/python3.7/site-packages (from scikit-learn->fracridge) (1.5.0)\n",
      "Requirement already satisfied: numpy>=1.13.3 in /home/elliott/anaconda3/lib/python3.7/site-packages (from scikit-learn->fracridge) (1.19.1)\n",
      "Requirement already satisfied: llvmlite<0.34,>=0.33.0.dev0 in /home/elliott/anaconda3/lib/python3.7/site-packages (from numba->fracridge) (0.33.0+1.g022ab0f)\n"
     ]
    }
   ],
   "source": [
    "!conda install fracridge"
   ]
  },
  {
   "cell_type": "code",
   "execution_count": 10,
   "metadata": {},
   "outputs": [],
   "source": [
    "from fracridge import FracRidgeRegressorCV\n",
    "from sklearn.metrics import mean_squared_error, r2_score"
   ]
  },
  {
   "cell_type": "code",
   "execution_count": 11,
   "metadata": {},
   "outputs": [],
   "source": [
    "# train fractional ridge on raw predictors\n",
    "# report the chosen fraction penalty\n",
    "# report MSE and r-squared in test set \n",
    "#TODO"
   ]
  },
  {
   "cell_type": "code",
   "execution_count": 12,
   "metadata": {},
   "outputs": [],
   "source": [
    "# train fractional ridge on stanardized predictors\n",
    "# report the chosen fraction penalty\n",
    "# report MSE and r-squared in test set \n",
    "#TODO"
   ]
  },
  {
   "cell_type": "code",
   "execution_count": 13,
   "metadata": {},
   "outputs": [],
   "source": [
    "# train fractional ridge on standardized predictors including quadratics and interactions\n",
    "# report the chosen fraction penalty\n",
    "# report MSE and r-squared in test set \n",
    "#TODO"
   ]
  },
  {
   "cell_type": "code",
   "execution_count": 14,
   "metadata": {},
   "outputs": [],
   "source": [
    "from seaborn import regplot"
   ]
  },
  {
   "cell_type": "code",
   "execution_count": 15,
   "metadata": {},
   "outputs": [],
   "source": [
    "# report a binned regplot of the true outcome versus predictions in the test set"
   ]
  },
  {
   "cell_type": "markdown",
   "metadata": {},
   "source": [
    "**How do the results change when using different predictors? Which one do you think is the best model for this task? Explain.**"
   ]
  },
  {
   "cell_type": "code",
   "execution_count": null,
   "metadata": {},
   "outputs": [],
   "source": []
  }
 ],
 "metadata": {
  "kernelspec": {
   "display_name": "Python 3",
   "language": "python",
   "name": "python3"
  },
  "language_info": {
   "codemirror_mode": {
    "name": "ipython",
    "version": 3
   },
   "file_extension": ".py",
   "mimetype": "text/x-python",
   "name": "python",
   "nbconvert_exporter": "python",
   "pygments_lexer": "ipython3",
   "version": "3.8.6"
  }
 },
 "nbformat": 4,
 "nbformat_minor": 4
}
