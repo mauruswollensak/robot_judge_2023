{
 "cells": [
  {
   "cell_type": "markdown",
   "metadata": {},
   "source": [
    "# HW02 (due October 10th, 23:59)"
   ]
  },
  {
   "cell_type": "markdown",
   "metadata": {},
   "source": [
    "In this homework you will investigate the *causal* of being part of a union on the number of hours worked. You will work with data from the National Longitudinal Survey. In particular, you have a panel of young women who were between 14 and 26 years of age in 1968, surveyed for 20 years.\n",
    "\n",
    "The purpose of this homework is ot make you think about the **identification** assumptions underlying your empirical strategy, namely the assumptions that allow the coefficient estimate from the regressions to be causal. Throughout the homework you will try to address the issue of **omitted variable bias** through different strategies, that will allow to make milder identification assumptions."
   ]
  },
  {
   "cell_type": "markdown",
   "metadata": {},
   "source": [
    "# Load Data"
   ]
  },
  {
   "cell_type": "code",
   "execution_count": 4,
   "metadata": {},
   "outputs": [],
   "source": [
    "# Needed once\n",
    "# !pip install pandas"
   ]
  },
  {
   "cell_type": "code",
   "execution_count": 6,
   "metadata": {},
   "outputs": [],
   "source": [
    "# Import\n",
    "import pandas as pd\n",
    "# import statsmodels.formula.api as smf\n",
    "import numpy as np\n",
    "import matplotlib.pyplot as plt\n",
    "plt.close(\"all\")"
   ]
  },
  {
   "cell_type": "code",
   "execution_count": 50,
   "metadata": {},
   "outputs": [],
   "source": [
    "# Load the NLSY dataset\n",
    "data = pd.read_stata('https://www.stata-press.com/data/r16/nlswork.dta')"
   ]
  },
  {
   "cell_type": "code",
   "execution_count": 36,
   "metadata": {},
   "outputs": [
    {
     "data": {
      "text/plain": [
       "{'idcode': 'NLS ID',\n",
       " 'year': 'interview year',\n",
       " 'birth_yr': 'birth year',\n",
       " 'age': 'age in current year',\n",
       " 'race': 'race',\n",
       " 'msp': '1 if married, spouse present',\n",
       " 'nev_mar': '1 if never married',\n",
       " 'grade': 'current grade completed',\n",
       " 'collgrad': '1 if college graduate',\n",
       " 'not_smsa': '1 if not SMSA',\n",
       " 'c_city': '1 if central city',\n",
       " 'south': '1 if south',\n",
       " 'ind_code': 'industry of employment',\n",
       " 'occ_code': 'occupation',\n",
       " 'union': '1 if union',\n",
       " 'wks_ue': 'weeks unemployed last year',\n",
       " 'ttl_exp': 'total work experience',\n",
       " 'tenure': 'job tenure, in years',\n",
       " 'hours': 'usual hours worked',\n",
       " 'wks_work': 'weeks worked last year',\n",
       " 'ln_wage': 'ln(wage/GNP deflator)'}"
      ]
     },
     "execution_count": 36,
     "metadata": {},
     "output_type": "execute_result"
    }
   ],
   "source": [
    "pd.read_stata('https://www.stata-press.com/data/r16/nlswork.dta', iterator=True).variable_labels()\n",
    "\n",
    "# data.head()"
   ]
  },
  {
   "cell_type": "markdown",
   "metadata": {},
   "source": [
    "#  Summary statistics"
   ]
  },
  {
   "cell_type": "markdown",
   "metadata": {},
   "source": [
    "Inspect the data."
   ]
  },
  {
   "cell_type": "code",
   "execution_count": 56,
   "metadata": {},
   "outputs": [
    {
     "ename": "AttributeError",
     "evalue": "'dict' object has no attribute 'plot'",
     "output_type": "error",
     "traceback": [
      "\u001b[0;31m---------------------------------------------------------------------------\u001b[0m",
      "\u001b[0;31mAttributeError\u001b[0m                            Traceback (most recent call last)",
      "\u001b[1;32m/Users/mauruswollensak/Library/CloudStorage/OneDrive-Personal/3 Education/32 ETZ and UZH/ETHZ – Building a Robot Judge/robot_judge_2023/homeworks/HW02.ipynb Cell 10\u001b[0m line \u001b[0;36m7\n\u001b[1;32m      <a href='vscode-notebook-cell:/Users/mauruswollensak/Library/CloudStorage/OneDrive-Personal/3%20Education/32%20ETZ%20and%20UZH/ETHZ%20%E2%80%93%20Building%20a%20Robot%20Judge/robot_judge_2023/homeworks/HW02.ipynb#X10sZmlsZQ%3D%3D?line=1'>2</a>\u001b[0m \u001b[39m\"\"\"\u001b[39;00m\n\u001b[1;32m      <a href='vscode-notebook-cell:/Users/mauruswollensak/Library/CloudStorage/OneDrive-Personal/3%20Education/32%20ETZ%20and%20UZH/ETHZ%20%E2%80%93%20Building%20a%20Robot%20Judge/robot_judge_2023/homeworks/HW02.ipynb#X10sZmlsZQ%3D%3D?line=2'>3</a>\u001b[0m \u001b[39m- plot hours worked (???) for union workers (union == 1) and non-union workers (union == 1)\u001b[39;00m\n\u001b[1;32m      <a href='vscode-notebook-cell:/Users/mauruswollensak/Library/CloudStorage/OneDrive-Personal/3%20Education/32%20ETZ%20and%20UZH/ETHZ%20%E2%80%93%20Building%20a%20Robot%20Judge/robot_judge_2023/homeworks/HW02.ipynb#X10sZmlsZQ%3D%3D?line=3'>4</a>\u001b[0m \u001b[39m\"\"\"\u001b[39;00m\n\u001b[1;32m      <a href='vscode-notebook-cell:/Users/mauruswollensak/Library/CloudStorage/OneDrive-Personal/3%20Education/32%20ETZ%20and%20UZH/ETHZ%20%E2%80%93%20Building%20a%20Robot%20Judge/robot_judge_2023/homeworks/HW02.ipynb#X10sZmlsZQ%3D%3D?line=5'>6</a>\u001b[0m filtered_data \u001b[39m=\u001b[39m {\u001b[39m\"\u001b[39m\u001b[39munion\u001b[39m\u001b[39m\"\u001b[39m: data[data[\u001b[39m\"\u001b[39m\u001b[39munion\u001b[39m\u001b[39m\"\u001b[39m] \u001b[39m==\u001b[39m \u001b[39m1\u001b[39m], \u001b[39m\"\u001b[39m\u001b[39mnon_union\u001b[39m\u001b[39m\"\u001b[39m: data[data[\u001b[39m\"\u001b[39m\u001b[39munion\u001b[39m\u001b[39m\"\u001b[39m] \u001b[39m==\u001b[39m \u001b[39m2\u001b[39m]}\n\u001b[0;32m----> <a href='vscode-notebook-cell:/Users/mauruswollensak/Library/CloudStorage/OneDrive-Personal/3%20Education/32%20ETZ%20and%20UZH/ETHZ%20%E2%80%93%20Building%20a%20Robot%20Judge/robot_judge_2023/homeworks/HW02.ipynb#X10sZmlsZQ%3D%3D?line=6'>7</a>\u001b[0m filtered_data\u001b[39m.\u001b[39;49mplot()\n",
      "\u001b[0;31mAttributeError\u001b[0m: 'dict' object has no attribute 'plot'"
     ]
    }
   ],
   "source": [
    "##Visualize the dataset\n",
    "\"\"\"\n",
    "- plot hours worked (???) for union workers (union == 1) and non-union workers (union == 1)\n",
    "\"\"\"\n",
    "\n",
    "filtered_data = {\"union\": data[data[\"union\"] == 1], \"non_union\": data[data[\"union\"] == 2]}\n",
    "filtered_data.plot()\n"
   ]
  },
  {
   "cell_type": "code",
   "execution_count": null,
   "metadata": {},
   "outputs": [],
   "source": []
  },
  {
   "cell_type": "code",
   "execution_count": null,
   "metadata": {},
   "outputs": [],
   "source": []
  },
  {
   "cell_type": "code",
   "execution_count": null,
   "metadata": {},
   "outputs": [],
   "source": []
  },
  {
   "cell_type": "code",
   "execution_count": null,
   "metadata": {},
   "outputs": [],
   "source": []
  },
  {
   "cell_type": "code",
   "execution_count": null,
   "metadata": {},
   "outputs": [],
   "source": []
  },
  {
   "cell_type": "code",
   "execution_count": null,
   "metadata": {},
   "outputs": [],
   "source": []
  },
  {
   "cell_type": "code",
   "execution_count": null,
   "metadata": {},
   "outputs": [],
   "source": [
    "##Tabulate college and union status "
   ]
  },
  {
   "cell_type": "code",
   "execution_count": null,
   "metadata": {},
   "outputs": [],
   "source": [
    "##Generate a variable for log hours worked"
   ]
  },
  {
   "cell_type": "code",
   "execution_count": null,
   "metadata": {},
   "outputs": [],
   "source": [
    "##plot log hours against year separately for union and non-union\n",
    "import seaborn as sns"
   ]
  },
  {
   "cell_type": "markdown",
   "metadata": {},
   "source": [
    "# Regression: Effect of union status on hours worked"
   ]
  },
  {
   "cell_type": "code",
   "execution_count": null,
   "metadata": {},
   "outputs": [],
   "source": [
    "##Regress hours worked against union status and display the results\n",
    "res = smf.ols()"
   ]
  },
  {
   "cell_type": "code",
   "execution_count": null,
   "metadata": {},
   "outputs": [],
   "source": [
    "##Print or write out the coefficient on union, standard error, t-stat, p-value and confidence interval"
   ]
  },
  {
   "cell_type": "markdown",
   "metadata": {},
   "source": [
    "#### What is the identification assumption for the coefficient on union to be causal?\n",
    "\n",
    "\n",
    "\n"
   ]
  },
  {
   "cell_type": "code",
   "execution_count": null,
   "metadata": {},
   "outputs": [],
   "source": [
    "## add education (collgrad) to the regression and compare the coefficient on union with the previous result"
   ]
  },
  {
   "cell_type": "code",
   "execution_count": null,
   "metadata": {},
   "outputs": [],
   "source": [
    "## add occupation codes to the regression and compare the results with the previous one"
   ]
  },
  {
   "cell_type": "markdown",
   "metadata": {},
   "source": [
    "#### In terms of causal inference, why is adding occupation code as a control probably not a good idea?\n"
   ]
  },
  {
   "cell_type": "markdown",
   "metadata": {},
   "source": [
    "#### What are \"good controls\" in the dataset in terms of being exogenous to union status?\n"
   ]
  },
  {
   "cell_type": "code",
   "execution_count": null,
   "metadata": {},
   "outputs": [],
   "source": [
    "##add these controls to the regression\n"
   ]
  },
  {
   "cell_type": "markdown",
   "metadata": {},
   "source": [
    "#### How do these change your estimates?\n"
   ]
  },
  {
   "cell_type": "markdown",
   "metadata": {},
   "source": [
    "# Short Essay: Correlation/Causation"
   ]
  },
  {
   "cell_type": "markdown",
   "metadata": {},
   "source": [
    "**Find a news article mistaking correlation for causation. Link to the article and write a short paragraph explaining the mistake.**"
   ]
  },
  {
   "cell_type": "markdown",
   "metadata": {},
   "source": [
    "[type your comments here, or attach as separate document.]"
   ]
  },
  {
   "cell_type": "code",
   "execution_count": null,
   "metadata": {},
   "outputs": [],
   "source": []
  }
 ],
 "metadata": {
  "kernelspec": {
   "display_name": "Python 3",
   "language": "python",
   "name": "python3"
  },
  "language_info": {
   "codemirror_mode": {
    "name": "ipython",
    "version": 3
   },
   "file_extension": ".py",
   "mimetype": "text/x-python",
   "name": "python",
   "nbconvert_exporter": "python",
   "pygments_lexer": "ipython3",
   "version": "3.10.9"
  }
 },
 "nbformat": 4,
 "nbformat_minor": 4
}
